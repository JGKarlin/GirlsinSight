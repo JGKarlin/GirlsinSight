{
  "nbformat": 4,
  "nbformat_minor": 0,
  "metadata": {
    "colab": {
      "provenance": [],
      "include_colab_link": true
    },
    "kernelspec": {
      "name": "python3",
      "display_name": "Python 3"
    },
    "language_info": {
      "name": "python"
    }
  },
  "cells": [
    {
      "cell_type": "markdown",
      "metadata": {
        "id": "view-in-github",
        "colab_type": "text"
      },
      "source": [
        "<a href=\"https://colab.research.google.com/github/JGKarlin/girlsinsight/blob/main/girlsinsight.v1.0.1.ipynb\" target=\"_parent\"><img src=\"https://colab.research.google.com/assets/colab-badge.svg\" alt=\"Open In Colab\"/></a>"
      ]
    },
    {
      "cell_type": "markdown",
      "source": [
        "# **GirlsinSight**\n",
        "### Version 1.0.1\n",
        "**Created on:** December 31, 2024  \n",
        "**Author:** Jason G. Karlin  \n",
        "**Contact:** [karlin@iii.u-tokyo.ac.jp](mailto:karlin@iii.u-tokyo.ac.jp)"
      ],
      "metadata": {
        "id": "ul0mkZkE7f7u"
      }
    },
    {
      "cell_type": "markdown",
      "source": [
        "## Instructions: Setting Up the Gemini AI API Key\n",
        "\n",
        "To use Gemini AI, follow these steps to generate and store your API key securely:\n",
        "\n",
        "### Step 1: Generate Your API Key\n",
        "1. Open this link in your browser: [Gemini AI API Key Page](https://aistudio.google.com/app/apikey).\n",
        "2. Sign in with your Google account.\n",
        "3. Click on the **\"Generate API Key\"** button.\n",
        "4. Copy the generated API key.\n",
        "\n",
        "### Step 2: Store the API Key in Colab Secrets\n",
        "1. In your Colab notebook, click on the **key icon** in the left-hand sidebar (this opens the Secrets manager).\n",
        "2. Click **\"Add new secret\"**.\n",
        "3. In the **Name** field, type `GEMINI_API_KEY`.\n",
        "4. In the **Value** field, paste your Gemini AI API key.\n",
        "5. Toggle **Notebook** access to enable the key"
      ],
      "metadata": {
        "id": "dJtzZsdF-vlS"
      }
    },
    {
      "cell_type": "markdown",
      "source": [
        "#### **Test Gemini API Key**"
      ],
      "metadata": {
        "id": "AaiD5-KsAZ5M"
      }
    },
    {
      "cell_type": "code",
      "source": [
        "from google.colab import userdata\n",
        "\n",
        "# Retrieve the API key from Colab Secrets\n",
        "stored_gemini_api_key = userdata.get(\"GEMINI_API_KEY\")\n",
        "\n",
        "if stored_gemini_api_key:\n",
        "    print(\"Successfully retrieved Gemini API key from Colab Secrets.\")\n",
        "    headers = {\"Authorization\": f\"Bearer {stored_gemini_api_key}\"}\n",
        "    print(\"You can now use this API key in your Gemini API requests.\")\n",
        "else:\n",
        "    raise ValueError(\"Gemini API key not found in Colab Secrets. Please ensure it is stored manually.\")"
      ],
      "metadata": {
        "id": "Nrq7w5ge-JCb"
      },
      "execution_count": null,
      "outputs": []
    },
    {
      "cell_type": "markdown",
      "source": [
        "#### **Install Required Python Libraries and dependencies**"
      ],
      "metadata": {
        "id": "Epo59QBmAvrg"
      }
    },
    {
      "cell_type": "code",
      "source": [
        "!pip install anthropic\n",
        "!apt-get install -y fonts-noto-cjk\n",
        "!fc-cache -fv\n",
        "!rm -rf ~/.cache/matplotlib\n",
        "!wget https://raw.githubusercontent.com/JGKarlin/girlsinsight/main/girlsinsight.v1.0.1.colab.py -O girlsinsight.v1.0.1.colab.py"
      ],
      "metadata": {
        "collapsed": true,
        "id": "ocGFptNF9x74",
        "colab": {
          "base_uri": "https://localhost:8080/"
        },
        "outputId": "fadd6979-bdc8-4cfb-9fae-43ffe029ffba"
      },
      "execution_count": null,
      "outputs": [
        {
          "output_type": "stream",
          "name": "stdout",
          "text": [
            "Collecting anthropic\n",
            "  Downloading anthropic-0.42.0-py3-none-any.whl.metadata (23 kB)\n",
            "Requirement already satisfied: anyio<5,>=3.5.0 in /usr/local/lib/python3.10/dist-packages (from anthropic) (3.7.1)\n",
            "Requirement already satisfied: distro<2,>=1.7.0 in /usr/local/lib/python3.10/dist-packages (from anthropic) (1.9.0)\n",
            "Requirement already satisfied: httpx<1,>=0.23.0 in /usr/local/lib/python3.10/dist-packages (from anthropic) (0.28.1)\n",
            "Requirement already satisfied: jiter<1,>=0.4.0 in /usr/local/lib/python3.10/dist-packages (from anthropic) (0.8.2)\n",
            "Requirement already satisfied: pydantic<3,>=1.9.0 in /usr/local/lib/python3.10/dist-packages (from anthropic) (2.10.3)\n",
            "Requirement already satisfied: sniffio in /usr/local/lib/python3.10/dist-packages (from anthropic) (1.3.1)\n",
            "Requirement already satisfied: typing-extensions<5,>=4.10 in /usr/local/lib/python3.10/dist-packages (from anthropic) (4.12.2)\n",
            "Requirement already satisfied: idna>=2.8 in /usr/local/lib/python3.10/dist-packages (from anyio<5,>=3.5.0->anthropic) (3.10)\n",
            "Requirement already satisfied: exceptiongroup in /usr/local/lib/python3.10/dist-packages (from anyio<5,>=3.5.0->anthropic) (1.2.2)\n",
            "Requirement already satisfied: certifi in /usr/local/lib/python3.10/dist-packages (from httpx<1,>=0.23.0->anthropic) (2024.12.14)\n",
            "Requirement already satisfied: httpcore==1.* in /usr/local/lib/python3.10/dist-packages (from httpx<1,>=0.23.0->anthropic) (1.0.7)\n",
            "Requirement already satisfied: h11<0.15,>=0.13 in /usr/local/lib/python3.10/dist-packages (from httpcore==1.*->httpx<1,>=0.23.0->anthropic) (0.14.0)\n",
            "Requirement already satisfied: annotated-types>=0.6.0 in /usr/local/lib/python3.10/dist-packages (from pydantic<3,>=1.9.0->anthropic) (0.7.0)\n",
            "Requirement already satisfied: pydantic-core==2.27.1 in /usr/local/lib/python3.10/dist-packages (from pydantic<3,>=1.9.0->anthropic) (2.27.1)\n",
            "Downloading anthropic-0.42.0-py3-none-any.whl (203 kB)\n",
            "\u001b[?25l   \u001b[90m━━━━━━━━━━━━━━━━━━━━━━━━━━━━━━━━━━━━━━━━\u001b[0m \u001b[32m0.0/203.4 kB\u001b[0m \u001b[31m?\u001b[0m eta \u001b[36m-:--:--\u001b[0m\r\u001b[2K   \u001b[91m━━━━━━━━━━━━━━━━━━━━━━━━━━━━━━━━━━━━━━\u001b[0m\u001b[90m╺\u001b[0m\u001b[90m━\u001b[0m \u001b[32m194.6/203.4 kB\u001b[0m \u001b[31m6.5 MB/s\u001b[0m eta \u001b[36m0:00:01\u001b[0m\r\u001b[2K   \u001b[90m━━━━━━━━━━━━━━━━━━━━━━━━━━━━━━━━━━━━━━━━\u001b[0m \u001b[32m203.4/203.4 kB\u001b[0m \u001b[31m4.7 MB/s\u001b[0m eta \u001b[36m0:00:00\u001b[0m\n",
            "\u001b[?25hInstalling collected packages: anthropic\n",
            "Successfully installed anthropic-0.42.0\n",
            "Reading package lists... Done\n",
            "Building dependency tree... Done\n",
            "Reading state information... Done\n",
            "Suggested packages:\n",
            "  fonts-noto-cjk-extra\n",
            "The following NEW packages will be installed:\n",
            "  fonts-noto-cjk\n",
            "0 upgraded, 1 newly installed, 0 to remove and 49 not upgraded.\n",
            "Need to get 61.2 MB of archives.\n",
            "After this operation, 93.2 MB of additional disk space will be used.\n",
            "Get:1 http://archive.ubuntu.com/ubuntu jammy/main amd64 fonts-noto-cjk all 1:20220127+repack1-1 [61.2 MB]\n",
            "Fetched 61.2 MB in 1s (47.9 MB/s)\n",
            "Selecting previously unselected package fonts-noto-cjk.\n",
            "(Reading database ... 123634 files and directories currently installed.)\n",
            "Preparing to unpack .../fonts-noto-cjk_1%3a20220127+repack1-1_all.deb ...\n",
            "Unpacking fonts-noto-cjk (1:20220127+repack1-1) ...\n",
            "Setting up fonts-noto-cjk (1:20220127+repack1-1) ...\n",
            "Processing triggers for fontconfig (2.13.1-4.2ubuntu5) ...\n",
            "/usr/share/fonts: caching, new cache contents: 0 fonts, 2 dirs\n",
            "/usr/share/fonts/opentype: caching, new cache contents: 0 fonts, 1 dirs\n",
            "/usr/share/fonts/opentype/noto: caching, new cache contents: 30 fonts, 0 dirs\n",
            "/usr/share/fonts/truetype: caching, new cache contents: 0 fonts, 2 dirs\n",
            "/usr/share/fonts/truetype/humor-sans: caching, new cache contents: 1 fonts, 0 dirs\n",
            "/usr/share/fonts/truetype/liberation: caching, new cache contents: 16 fonts, 0 dirs\n",
            "/usr/local/share/fonts: caching, new cache contents: 0 fonts, 0 dirs\n",
            "/root/.local/share/fonts: skipping, no such directory\n",
            "/root/.fonts: skipping, no such directory\n",
            "/usr/share/fonts/opentype: skipping, looped directory detected\n",
            "/usr/share/fonts/truetype: skipping, looped directory detected\n",
            "/usr/share/fonts/opentype/noto: skipping, looped directory detected\n",
            "/usr/share/fonts/truetype/humor-sans: skipping, looped directory detected\n",
            "/usr/share/fonts/truetype/liberation: skipping, looped directory detected\n",
            "/var/cache/fontconfig: cleaning cache directory\n",
            "/root/.cache/fontconfig: not cleaning non-existent cache directory\n",
            "/root/.fontconfig: not cleaning non-existent cache directory\n",
            "fc-cache: succeeded\n",
            "--2025-01-01 01:03:44--  https://raw.githubusercontent.com/JGKarlin/girlsinsight/main/girlsinsight.v1.0.1.colab.py\n",
            "Resolving raw.githubusercontent.com (raw.githubusercontent.com)... 185.199.109.133, 185.199.108.133, 185.199.111.133, ...\n",
            "Connecting to raw.githubusercontent.com (raw.githubusercontent.com)|185.199.109.133|:443... connected.\n",
            "HTTP request sent, awaiting response... 200 OK\n",
            "Length: 77920 (76K) [text/plain]\n",
            "Saving to: ‘girlsinsight.v1.0.1.colab.py’\n",
            "\n",
            "girlsinsight.v1.0.1 100%[===================>]  76.09K  --.-KB/s    in 0.02s   \n",
            "\n",
            "2025-01-01 01:03:45 (3.45 MB/s) - ‘girlsinsight.v1.0.1.colab.py’ saved [77920/77920]\n",
            "\n"
          ]
        }
      ]
    },
    {
      "cell_type": "markdown",
      "source": [
        "#### **Run the script below**\n",
        "#### * Ensure that the girlsinsight.v1.0.1.colab.py file has been uploaded"
      ],
      "metadata": {
        "id": "SaAyQsH8CLYc"
      }
    },
    {
      "cell_type": "code",
      "source": [
        "%run girlsinsight.v1.0.1.colab.py"
      ],
      "metadata": {
        "id": "4YRVP95Q6UGp"
      },
      "execution_count": null,
      "outputs": []
    },
    {
      "cell_type": "markdown",
      "source": [
        "#### **Copy contents of output folder to Google Drive**"
      ],
      "metadata": {
        "id": "0x1klv5Qbq7z"
      }
    },
    {
      "cell_type": "code",
      "source": [
        "from google.colab import drive\n",
        "import shutil\n",
        "import os\n",
        "\n",
        "# Mount Google Drive\n",
        "drive.mount('/content/drive')\n",
        "\n",
        "# Specify the source and destination paths\n",
        "source_folder = '/content/outputs'  # Replace with the actual path of your output folder\n",
        "destination_folder = '/content/drive/MyDrive/GirlsInSight'  # Replace with your desired destination in Google Drive\n",
        "\n",
        "# Create the destination folder if it doesn't exist\n",
        "if not os.path.exists(destination_folder):\n",
        "    os.makedirs(destination_folder)\n",
        "\n",
        "# Copy the contents of the output folder to Google Drive\n",
        "try:\n",
        "    shutil.copytree(source_folder, destination_folder, dirs_exist_ok=True)\n",
        "    print(f\"Successfully copied contents of '{source_folder}' to '{destination_folder}'\")\n",
        "except FileNotFoundError:\n",
        "    print(f\"Error: Source folder '{source_folder}' not found.\")\n",
        "except Exception as e:\n",
        "    print(f\"An error occurred: {e}\")\n",
        "\n",
        "# Optional: Unmount Google Drive after copying (recommended)\n",
        "drive.flush_and_unmount()\n",
        "print('All changes made in this colab session should now be visible in Drive.')"
      ],
      "metadata": {
        "id": "VKPjh4VZZqHM"
      },
      "execution_count": null,
      "outputs": []
    }
  ]
}